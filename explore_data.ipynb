{
 "cells": [
  {
   "cell_type": "code",
   "execution_count": 1,
   "metadata": {},
   "outputs": [],
   "source": [
    "from pyspark.sql import SparkSession\n",
    "from pyspark.sql.functions import udf\n",
    "from pyspark.sql.types import StringType\n",
    "from pyspark.sql.types import IntegerType\n",
    "from pyspark.sql.functions import desc\n",
    "from pyspark.sql.functions import asc\n",
    "from pyspark.sql.functions import sum as Fsum\n",
    "\n",
    "import datetime\n",
    "\n",
    "import numpy as np\n",
    "import pandas as pd\n",
    "%matplotlib inline\n",
    "import matplotlib.pyplot as plt"
   ]
  },
  {
   "cell_type": "code",
   "execution_count": 2,
   "metadata": {},
   "outputs": [],
   "source": [
    "spark = SparkSession \\\n",
    "    .builder \\\n",
    "    .appName(\"Exploring Data\") \\\n",
    "    .getOrCreate()"
   ]
  },
  {
   "cell_type": "code",
   "execution_count": 11,
   "metadata": {},
   "outputs": [],
   "source": [
    "path = \"/Users/km4657/code/python/sf-crime-analysis/police-department-calls-for-service.json\"\n",
    "\n",
    "event_log = spark.read.json(path, multiLine=True)\n",
    "\n",
    "\n"
   ]
  },
  {
   "cell_type": "code",
   "execution_count": 12,
   "metadata": {},
   "outputs": [
    {
     "name": "stdout",
     "output_type": "stream",
     "text": [
      "root\n",
      " |-- address: string (nullable = true)\n",
      " |-- address_type: string (nullable = true)\n",
      " |-- agency_id: string (nullable = true)\n",
      " |-- call_date: string (nullable = true)\n",
      " |-- call_date_time: string (nullable = true)\n",
      " |-- call_time: string (nullable = true)\n",
      " |-- city: string (nullable = true)\n",
      " |-- common_location: string (nullable = true)\n",
      " |-- crime_id: string (nullable = true)\n",
      " |-- disposition: string (nullable = true)\n",
      " |-- offense_date: string (nullable = true)\n",
      " |-- original_crime_type_name: string (nullable = true)\n",
      " |-- report_date: string (nullable = true)\n",
      " |-- state: string (nullable = true)\n",
      "\n"
     ]
    }
   ],
   "source": [
    "event_log.printSchema()"
   ]
  },
  {
   "cell_type": "code",
   "execution_count": 13,
   "metadata": {},
   "outputs": [
    {
     "data": {
      "text/plain": [
       "[Row(address='Geary Bl/divisadero St', address_type='Intersection', agency_id='1', call_date='2018-12-31T00:00:00.000', call_date_time='2018-12-31T23:57:00.000', call_time='23:57', city='San Francisco', common_location='', crime_id='183653763', disposition='ADM', offense_date='2018-12-31T00:00:00.000', original_crime_type_name='Traffic Stop', report_date='2018-12-31T00:00:00.000', state='CA'),\n",
       " Row(address='100 Blk Howard St', address_type='Geo-Override', agency_id='1', call_date='2018-12-31T00:00:00.000', call_date_time='2018-12-31T23:54:00.000', call_time='23:54', city='San Francisco', common_location='', crime_id='183653756', disposition='CIT', offense_date='2018-12-31T00:00:00.000', original_crime_type_name='Traf Violation Cite', report_date='2018-12-31T00:00:00.000', state='CA'),\n",
       " Row(address='3300 Block Of 20th Av', address_type='Common Location', agency_id='1', call_date='2018-12-31T00:00:00.000', call_date_time='2018-12-31T23:49:00.000', call_time='23:49', city='San Francisco', common_location='Stonestown Galleria, Sf', crime_id='183653746', disposition='HAN', offense_date='2018-12-31T00:00:00.000', original_crime_type_name='Passing Call', report_date='2018-12-31T00:00:00.000', state='CA'),\n",
       " Row(address='1900 Block Of 18th Av', address_type='Premise Address', agency_id='1', call_date='2018-12-31T00:00:00.000', call_date_time='2018-12-31T23:47:00.000', call_time='23:47', city='San Francisco', common_location='', crime_id='183653745', disposition='PAS', offense_date='2018-12-31T00:00:00.000', original_crime_type_name='Audible Alarm', report_date='2018-12-31T00:00:00.000', state='CA'),\n",
       " Row(address='Sansome St/chestnut St', address_type='Intersection', agency_id='1', call_date='2018-12-31T00:00:00.000', call_date_time='2018-12-31T23:46:00.000', call_time='23:46', city='San Francisco', common_location='', crime_id='183653737', disposition='CIT', offense_date='2018-12-31T00:00:00.000', original_crime_type_name='Traffic Stop', report_date='2018-12-31T00:00:00.000', state='CA')]"
      ]
     },
     "execution_count": 13,
     "metadata": {},
     "output_type": "execute_result"
    }
   ],
   "source": [
    "event_log.take(5)"
   ]
  },
  {
   "cell_type": "code",
   "execution_count": 14,
   "metadata": {},
   "outputs": [
    {
     "name": "stdout",
     "output_type": "stream",
     "text": [
      "+-------+------------------+---------------+---------+--------------------+--------------------+---------+-----------+------------------+--------------------+-----------+--------------------+------------------------+--------------------+------+\n",
      "|summary|           address|   address_type|agency_id|           call_date|      call_date_time|call_time|       city|   common_location|            crime_id|disposition|        offense_date|original_crime_type_name|         report_date| state|\n",
      "+-------+------------------+---------------+---------+--------------------+--------------------+---------+-----------+------------------+--------------------+-----------+--------------------+------------------------+--------------------+------+\n",
      "|  count|            199999|         199999|   199999|              199999|              199999|   199999|     199999|            199999|              199999|     199999|              199999|                  199999|              199999|199999|\n",
      "|   mean| 133.0909090909091|           null|      1.0|                null|                null|     null|       null|              null|1.8318701972651362E8|       22.0|                null|      4069.9766435812558|                null|  null|\n",
      "| stddev|243.86613317369614|           null|      0.0|                null|                null|     null|       null|              null|  260420.76950813897|        0.0|                null|       9006.415090272823|                null|  null|\n",
      "|    min|      #1 Church St|Common Location|        1|2018-10-02T00:00:...|2018-10-02T09:11:...|    00:00|           |                  |           182751007|         22|2018-10-02T00:00:...|           \"Bumper Jack\"|2018-10-02T00:00:...|    CA|\n",
      "|    max|               Zoo|Premise Address|        1|2018-12-31T00:00:...|2018-12-31T23:57:...|    23:59|Yerba Buena|Zoo-South Gate, Sf|           183653763|        UTL|2018-12-31T00:00:...|                      `X|2018-12-31T00:00:...|    CA|\n",
      "+-------+------------------+---------------+---------+--------------------+--------------------+---------+-----------+------------------+--------------------+-----------+--------------------+------------------------+--------------------+------+\n",
      "\n"
     ]
    }
   ],
   "source": [
    "event_log.describe().show()\n"
   ]
  },
  {
   "cell_type": "code",
   "execution_count": 16,
   "metadata": {},
   "outputs": [
    {
     "name": "stdout",
     "output_type": "stream",
     "text": [
      "+-------+------------------------+\n",
      "|summary|original_crime_type_name|\n",
      "+-------+------------------------+\n",
      "|  count|                  199999|\n",
      "|   mean|      4069.9766435812558|\n",
      "| stddev|       9006.415090272823|\n",
      "|    min|           \"Bumper Jack\"|\n",
      "|    max|                      `X|\n",
      "+-------+------------------------+\n",
      "\n"
     ]
    }
   ],
   "source": [
    "event_log.describe(\"original_crime_type_name\").show()"
   ]
  },
  {
   "cell_type": "code",
   "execution_count": 42,
   "metadata": {},
   "outputs": [
    {
     "name": "stdout",
     "output_type": "stream",
     "text": [
      "+------------------------+\n",
      "|original_crime_type_name|\n",
      "+------------------------+\n",
      "|                 Footage|\n",
      "|                   Sword|\n",
      "|                 415/909|\n",
      "|            Physical/601|\n",
      "|                   915/x|\n",
      "|              Ne Tx 0123|\n",
      "|                 488/594|\n",
      "|                   Drink|\n",
      "|                 Dealing|\n",
      "|                 Erratic|\n",
      "|          594 W/ Bb Guns|\n",
      "|            Passing Call|\n",
      "|                     853|\n",
      "|          Person W/knife|\n",
      "|                     800|\n",
      "|                      Gz|\n",
      "|               Loud Bass|\n",
      "|                   2200e|\n",
      "|            Dropped Call|\n",
      "|              Music/ 909|\n",
      "+------------------------+\n",
      "only showing top 20 rows\n",
      "\n"
     ]
    }
   ],
   "source": [
    "event_log.select(\"original_crime_type_name\").dropDuplicates().show()\n"
   ]
  },
  {
   "cell_type": "code",
   "execution_count": 36,
   "metadata": {},
   "outputs": [
    {
     "name": "stdout",
     "output_type": "stream",
     "text": [
      "+------------------------+-----+\n",
      "|original_crime_type_name|count|\n",
      "+------------------------+-----+\n",
      "|            Passing Call|35180|\n",
      "|            Traffic Stop|13538|\n",
      "|     Traf Violation Cite|10921|\n",
      "|       Suspicious Person|10007|\n",
      "|      Homeless Complaint| 6072|\n",
      "|              Trespasser| 5840|\n",
      "|           Audible Alarm| 5775|\n",
      "|                  22500e| 5651|\n",
      "|        Well Being Check| 5552|\n",
      "|         Muni Inspection| 5509|\n",
      "|      Suspicious Vehicle| 5031|\n",
      "|         Fight No Weapon| 4199|\n",
      "|          Noise Nuisance| 4072|\n",
      "|      Auto Boost / Strip| 2969|\n",
      "|      Traf Violation Tow| 2915|\n",
      "|                    Poss| 2851|\n",
      "|      Mentally Disturbed| 2585|\n",
      "|             Petty Theft| 2549|\n",
      "|          Meet W/citizen| 2414|\n",
      "|       Assault / Battery| 2356|\n",
      "|                   Drugs| 2003|\n",
      "|                     601| 1837|\n",
      "|          Complaint Unkn| 1676|\n",
      "|                    500e| 1519|\n",
      "|                Burglary| 1423|\n",
      "|          Stolen Vehicle| 1408|\n",
      "|    Threats / Harassment| 1380|\n",
      "|                  22500f| 1345|\n",
      "|               Vandalism| 1337|\n",
      "|                     Rep| 1213|\n",
      "|        H&r Veh Accident| 1009|\n",
      "|            Veh Accident|  998|\n",
      "|                      Jo|  961|\n",
      "|                      Dw|  919|\n",
      "|                     909|  865|\n",
      "|                   Fraud|  842|\n",
      "|                  7.2.46|  823|\n",
      "|                     518|  801|\n",
      "|      Fight No Weapon Dv|  750|\n",
      "|         Suicide Attempt|  731|\n",
      "|    Wanted Vehicle / Sub|  711|\n",
      "|     Injury Veh Accident|  702|\n",
      "|       Indecent Exposure|  671|\n",
      "|          Person W/knife|  616|\n",
      "|           Missing Adult|  551|\n",
      "|                  Verbal|  528|\n",
      "|              Aided Case|  513|\n",
      "|                     415|  511|\n",
      "|                   Caser|  487|\n",
      "|      Prisoner Transport|  484|\n",
      "|                      Ip|  470|\n",
      "|                  7.2.27|  467|\n",
      "|             Arrest Made|  450|\n",
      "|    Assault / Battery Dv|  448|\n",
      "|              Aggressive|  434|\n",
      "|                  Report|  426|\n",
      "|                Reckless|  419|\n",
      "|             Grand Theft|  411|\n",
      "|                    500f|  407|\n",
      "|       Strongarm Robbery|  406|\n",
      "|      Intoxicated Person|  386|\n",
      "|                   Music|  379|\n",
      "|        Person Screaming|  374|\n",
      "|                     488|  372|\n",
      "|          Citizen Arrest|  363|\n",
      "|         Citizen Standby|  348|\n",
      "|        Missing Juvenile|  334|\n",
      "|                     915|  330|\n",
      "|         Stolen Property|  327|\n",
      "|        Ringing Doorbell|  318|\n",
      "|                     917|  300|\n",
      "|                       X|  299|\n",
      "|                Physical|  297|\n",
      "|                 Sleeper|  295|\n",
      "|                  Casing|  294|\n",
      "|                   Party|  291|\n",
      "|                  7,2,46|  289|\n",
      "|             Panic Alarm|  288|\n",
      "|                     919|  284|\n",
      "|            Person W/gun|  272|\n",
      "|                    Susp|  270|\n",
      "|                  Family|  269|\n",
      "|            Silent Alarm|  269|\n",
      "|      Person Breaking In|  268|\n",
      "|                      Sw|  262|\n",
      "|                    Male|  252|\n",
      "|             Shots Fired|  250|\n",
      "|                  7.2.45|  246|\n",
      "|                     811|  234|\n",
      "|                     Att|  231|\n",
      "|                 Prowler|  226|\n",
      "|                     911|  222|\n",
      "|                     800|  218|\n",
      "|             Person Down|  218|\n",
      "|     Silent Holdup Alarm|  214|\n",
      "|          Demo / Protest|  213|\n",
      "|                     650|  212|\n",
      "|          Meet W/officer|  211|\n",
      "|                800 Poss|  210|\n",
      "|           Vehicle Alarm|  204|\n",
      "+------------------------+-----+\n",
      "only showing top 100 rows\n",
      "\n"
     ]
    }
   ],
   "source": [
    "#event_log.select(\"original_crime_type_name\").dropDuplicates().sort(\"original_crime_type_name\").show(500)\n",
    "\n",
    "\n",
    "\n",
    "events_by_type = event_log.groupby(event_log.original_crime_type_name).count().orderBy('count', ascending=False).show(100)"
   ]
  },
  {
   "cell_type": "code",
   "execution_count": 37,
   "metadata": {},
   "outputs": [
    {
     "name": "stdout",
     "output_type": "stream",
     "text": [
      "+---------------+------+\n",
      "|   address_type| count|\n",
      "+---------------+------+\n",
      "|Premise Address|102791|\n",
      "|   Intersection| 64091|\n",
      "|Common Location| 24446|\n",
      "|   Geo-Override|  8671|\n",
      "+---------------+------+\n",
      "\n"
     ]
    }
   ],
   "source": [
    "events_by_location = event_log.groupby(event_log.address_type).count().orderBy('count', ascending=False).show(100)"
   ]
  },
  {
   "cell_type": "code",
   "execution_count": 43,
   "metadata": {},
   "outputs": [
    {
     "name": "stdout",
     "output_type": "stream",
     "text": [
      "+--------------------+---------------+---------+--------------------+--------------------+---------+-------------+--------------------+---------+-----------+--------------------+------------------------+--------------------+-----+\n",
      "|             address|   address_type|agency_id|           call_date|      call_date_time|call_time|         city|     common_location| crime_id|disposition|        offense_date|original_crime_type_name|         report_date|state|\n",
      "+--------------------+---------------+---------+--------------------+--------------------+---------+-------------+--------------------+---------+-----------+--------------------+------------------------+--------------------+-----+\n",
      "| 100 Block Of 6th St|Common Location|        1|2018-10-30T00:00:...|2018-10-30T08:19:...|    08:19|San Francisco| Henry Hotel Sro, Sf|183030788|        GOA|2018-10-30T00:00:...|                261 Poss|2018-10-30T00:00:...|   CA|\n",
      "|100 Block Of New ...|Premise Address|        1|2018-11-02T00:00:...|2018-11-02T08:59:...|    08:59|San Francisco|                    |183060907|        HAN|2018-11-02T00:00:...|                 415/400|2018-11-02T00:00:...|   CA|\n",
      "|400 Block Of 15th Av|Premise Address|        1|2018-11-25T00:00:...|2018-11-25T20:43:...|    20:43|San Francisco|                    |183293188|        HAN|2018-11-25T00:00:...|                418 Poss|2018-11-25T00:00:...|   CA|\n",
      "|Lombard St/divisa...|   Intersection|        1|2018-10-14T00:00:...|2018-10-14T04:08:...|    04:08|San Francisco|                    |182870505|        GOA|2018-10-14T00:00:...|                470 Poss|2018-10-14T00:00:...|   CA|\n",
      "|300 Block Of Teha...|Premise Address|        1|2018-12-20T00:00:...|2018-12-20T09:12:...|    09:12|San Francisco|                    |183540941|        CIT|2018-12-20T00:00:...|                500e/npa|2018-12-20T00:00:...|   CA|\n",
      "|  Ada Ct/ofarrell St|   Intersection|        1|2018-11-10T00:00:...|2018-11-10T15:20:...|    15:20|San Francisco|                    |183142200|        ADV|2018-11-10T00:00:...|                    647b|2018-11-10T00:00:...|   CA|\n",
      "|300 Block Of Tayl...|Common Location|        1|2018-10-26T00:00:...|2018-10-26T08:02:...|    08:02|San Francisco|    Tilden Hotel, Sf|182990745|        GOA|2018-10-26T00:00:...|          650'g Children|2018-10-26T00:00:...|   CA|\n",
      "|1800 Block Of 31s...|Premise Address|        1|2018-10-27T00:00:...|2018-10-27T23:08:...|    23:08|San Francisco|                    |183004188|        ADV|2018-10-27T00:00:...|                  7.2.35|2018-10-27T00:00:...|   CA|\n",
      "|400 Block Of Lark...|Premise Address|        1|2018-11-05T00:00:...|2018-11-05T10:07:...|    10:07|San Francisco|                    |183091254|        ADV|2018-11-05T00:00:...|                911 Open|2018-11-05T00:00:...|   CA|\n",
      "|100 Block Of Mcal...|Premise Address|        1|2018-12-26T00:00:...|2018-12-26T08:24:...|    08:24|San Francisco|                    |183600640|        HAN|2018-12-26T00:00:...|                    917s|2018-12-26T00:00:...|   CA|\n",
      "|  Powell St/geary St|   Intersection|        1|2018-12-26T00:00:...|2018-12-26T20:33:...|    20:33|San Francisco|                    |183603237|        HAN|2018-12-26T00:00:...|                     920|2018-12-26T00:00:...|   CA|\n",
      "|100 Block Of Came...|Premise Address|        1|2018-10-09T00:00:...|2018-10-09T11:11:...|    11:11|San Francisco|                    |182821499|        CAN|2018-10-09T00:00:...|                Agitated|2018-10-09T00:00:...|   CA|\n",
      "|4000 Block Of 18t...|Premise Address|        1|2018-12-31T00:00:...|2018-12-31T23:30:...|    23:30|San Francisco|                    |183653696|        REP|2018-12-31T00:00:...|                     Att|2018-12-31T00:00:...|   CA|\n",
      "| 500 Block Of 2nd St|Premise Address|        1|2018-12-24T00:00:...|2018-12-24T10:30:...|    10:30|San Francisco|                    |183580990|        UTL|2018-12-24T00:00:...|                 Attempt|2018-12-24T00:00:...|   CA|\n",
      "|100 Block Of High...|Premise Address|        1|2018-10-16T00:00:...|2018-10-16T23:23:...|    23:23|San Francisco|                    |182893952|        ABA|2018-10-16T00:00:...|             Attempt/418|2018-10-16T00:00:...|   CA|\n",
      "|3000 Block Of 16t...|Premise Address|        1|2018-12-28T00:00:...|2018-12-28T23:52:...|    23:52|San Francisco|                    |183623858|        HAN|2018-12-28T00:00:...|             Bomb Threat|2018-12-28T00:00:...|   CA|\n",
      "| Beach St/webster St|   Intersection|        1|2018-12-06T00:00:...|2018-12-06T08:08:...|    08:08|San Francisco|                    |183400750|        CAN|2018-12-06T00:00:...|                   Child|2018-12-06T00:00:...|   CA|\n",
      "|   Albion St/15th St|   Intersection|        1|2018-12-01T00:00:...|2018-12-01T20:49:...|    20:49|San Francisco|                    |183353477|        CAN|2018-12-01T00:00:...|               Crowl Bar|2018-12-01T00:00:...|   CA|\n",
      "|300 Block Of Powe...|Common Location|        1|2018-12-24T00:00:...|2018-12-24T10:58:...|    10:58|San Francisco|Westin St Francis...|183581059|        NOM|2018-12-24T00:00:...|            Dropped Call|2018-12-24T00:00:...|   CA|\n",
      "|400 Block Of Leav...|Premise Address|        1|2018-12-27T00:00:...|2018-12-27T15:21:...|    15:21|San Francisco|                    |183612220|        ABA|2018-12-27T00:00:...|                   Drugs|2018-12-27T00:00:...|   CA|\n",
      "+--------------------+---------------+---------+--------------------+--------------------+---------+-------------+--------------------+---------+-----------+--------------------+------------------------+--------------------+-----+\n",
      "only showing top 20 rows\n",
      "\n"
     ]
    }
   ],
   "source": [
    "distinct_table = event_log.dropDuplicates([\"original_crime_type_name\", \"disposition\"]).show()"
   ]
  },
  {
   "cell_type": "code",
   "execution_count": 44,
   "metadata": {},
   "outputs": [],
   "source": [
    " distinct_table = event_log.select(\"original_crime_type_name\", \"disposition\")"
   ]
  },
  {
   "cell_type": "code",
   "execution_count": 47,
   "metadata": {},
   "outputs": [
    {
     "name": "stdout",
     "output_type": "stream",
     "text": [
      "+------------------------+------------+\n",
      "|original_crime_type_name| disposition|\n",
      "+------------------------+------------+\n",
      "|            Traffic Stop|         ADM|\n",
      "|     Traf Violation Cite|         CIT|\n",
      "|            Passing Call|         HAN|\n",
      "|           Audible Alarm|         PAS|\n",
      "|            Traffic Stop|         CIT|\n",
      "|            Passing Call|          ND|\n",
      "|            Traffic Stop|         CIT|\n",
      "|            Traffic Stop|         HAN|\n",
      "|            Passing Call|Not recorded|\n",
      "|         Fight No Weapon|         GOA|\n",
      "|            Traffic Stop|         HAN|\n",
      "|            Passing Call|         HAN|\n",
      "|            Passing Call|         HAN|\n",
      "|            Traffic Stop|         CIT|\n",
      "|                     Att|         REP|\n",
      "|      Auto Boost / Strip|         REP|\n",
      "|            Passing Call|         HAN|\n",
      "|            Traffic Stop|         ADV|\n",
      "|            Passing Call|         HAN|\n",
      "|      Suspicious Vehicle|         ADV|\n",
      "+------------------------+------------+\n",
      "only showing top 20 rows\n",
      "\n"
     ]
    }
   ],
   "source": [
    "distinct_table.show()"
   ]
  },
  {
   "cell_type": "code",
   "execution_count": 48,
   "metadata": {},
   "outputs": [
    {
     "name": "stdout",
     "output_type": "stream",
     "text": [
      "+------------------------+-----+\n",
      "|original_crime_type_name|count|\n",
      "+------------------------+-----+\n",
      "|            Passing Call|35180|\n",
      "|            Traffic Stop|13538|\n",
      "|     Traf Violation Cite|10921|\n",
      "|       Suspicious Person|10007|\n",
      "|      Homeless Complaint| 6072|\n",
      "|              Trespasser| 5840|\n",
      "|           Audible Alarm| 5775|\n",
      "|                  22500e| 5651|\n",
      "|        Well Being Check| 5552|\n",
      "|         Muni Inspection| 5509|\n",
      "|      Suspicious Vehicle| 5031|\n",
      "|         Fight No Weapon| 4199|\n",
      "|          Noise Nuisance| 4072|\n",
      "|      Auto Boost / Strip| 2969|\n",
      "|      Traf Violation Tow| 2915|\n",
      "|                    Poss| 2851|\n",
      "|      Mentally Disturbed| 2585|\n",
      "|             Petty Theft| 2549|\n",
      "|          Meet W/citizen| 2414|\n",
      "|       Assault / Battery| 2356|\n",
      "|                   Drugs| 2003|\n",
      "|                     601| 1837|\n",
      "|          Complaint Unkn| 1676|\n",
      "|                    500e| 1519|\n",
      "|                Burglary| 1423|\n",
      "|          Stolen Vehicle| 1408|\n",
      "|    Threats / Harassment| 1380|\n",
      "|                  22500f| 1345|\n",
      "|               Vandalism| 1337|\n",
      "|                     Rep| 1213|\n",
      "|        H&r Veh Accident| 1009|\n",
      "|            Veh Accident|  998|\n",
      "|                      Jo|  961|\n",
      "|                      Dw|  919|\n",
      "|                     909|  865|\n",
      "|                   Fraud|  842|\n",
      "|                  7.2.46|  823|\n",
      "|                     518|  801|\n",
      "|      Fight No Weapon Dv|  750|\n",
      "|         Suicide Attempt|  731|\n",
      "|    Wanted Vehicle / Sub|  711|\n",
      "|     Injury Veh Accident|  702|\n",
      "|       Indecent Exposure|  671|\n",
      "|          Person W/knife|  616|\n",
      "|           Missing Adult|  551|\n",
      "|                  Verbal|  528|\n",
      "|              Aided Case|  513|\n",
      "|                     415|  511|\n",
      "|                   Caser|  487|\n",
      "|      Prisoner Transport|  484|\n",
      "|                      Ip|  470|\n",
      "|                  7.2.27|  467|\n",
      "|             Arrest Made|  450|\n",
      "|    Assault / Battery Dv|  448|\n",
      "|              Aggressive|  434|\n",
      "|                  Report|  426|\n",
      "|                Reckless|  419|\n",
      "|             Grand Theft|  411|\n",
      "|                    500f|  407|\n",
      "|       Strongarm Robbery|  406|\n",
      "|      Intoxicated Person|  386|\n",
      "|                   Music|  379|\n",
      "|        Person Screaming|  374|\n",
      "|                     488|  372|\n",
      "|          Citizen Arrest|  363|\n",
      "|         Citizen Standby|  348|\n",
      "|        Missing Juvenile|  334|\n",
      "|                     915|  330|\n",
      "|         Stolen Property|  327|\n",
      "|        Ringing Doorbell|  318|\n",
      "|                     917|  300|\n",
      "|                       X|  299|\n",
      "|                Physical|  297|\n",
      "|                 Sleeper|  295|\n",
      "|                  Casing|  294|\n",
      "|                   Party|  291|\n",
      "|                  7,2,46|  289|\n",
      "|             Panic Alarm|  288|\n",
      "|                     919|  284|\n",
      "|            Person W/gun|  272|\n",
      "|                    Susp|  270|\n",
      "|                  Family|  269|\n",
      "|            Silent Alarm|  269|\n",
      "|      Person Breaking In|  268|\n",
      "|                      Sw|  262|\n",
      "|                    Male|  252|\n",
      "|             Shots Fired|  250|\n",
      "|                  7.2.45|  246|\n",
      "|                     811|  234|\n",
      "|                     Att|  231|\n",
      "|                 Prowler|  226|\n",
      "|                     911|  222|\n",
      "|             Person Down|  218|\n",
      "|                     800|  218|\n",
      "|     Silent Holdup Alarm|  214|\n",
      "|          Demo / Protest|  213|\n",
      "|                     650|  212|\n",
      "|          Meet W/officer|  211|\n",
      "|                800 Poss|  210|\n",
      "|           Vehicle Alarm|  204|\n",
      "+------------------------+-----+\n",
      "only showing top 100 rows\n",
      "\n"
     ]
    }
   ],
   "source": [
    "agg_df = distinct_table.groupby(event_log.original_crime_type_name).count().orderBy('count', ascending=False).show(100)"
   ]
  },
  {
   "cell_type": "code",
   "execution_count": 52,
   "metadata": {},
   "outputs": [
    {
     "name": "stdout",
     "output_type": "stream",
     "text": [
      "+------------+\n",
      "| disposition|\n",
      "+------------+\n",
      "|         CHP|\n",
      "|         DUP|\n",
      "|         ABA|\n",
      "|         INC|\n",
      "|         GEN|\n",
      "|         TH2|\n",
      "|          22|\n",
      "|         NOM|\n",
      "|         HOT|\n",
      "|         GOA|\n",
      "|         CIT|\n",
      "|         HAN|\n",
      "|         ADM|\n",
      "|         ENC|\n",
      "|         FIR|\n",
      "|          ND|\n",
      "|         SFD|\n",
      "|         PAS|\n",
      "|         UTL|\n",
      "|         NCR|\n",
      "|         CAN|\n",
      "|         ARR|\n",
      "|         OTS|\n",
      "|         TOW|\n",
      "|         ADV|\n",
      "|         REP|\n",
      "|         CRM|\n",
      "|Not recorded|\n",
      "+------------+\n",
      "\n"
     ]
    }
   ],
   "source": [
    "event_log.select(\"disposition\").dropDuplicates().show(100)"
   ]
  },
  {
   "cell_type": "code",
   "execution_count": 53,
   "metadata": {},
   "outputs": [],
   "source": [
    "path = \"/Users/km4657/code/python/sf-crime-analysis/radio_code.json\"\n",
    "\n",
    "code_log = spark.read.json(path, multiLine=True)"
   ]
  },
  {
   "cell_type": "code",
   "execution_count": 54,
   "metadata": {},
   "outputs": [
    {
     "name": "stdout",
     "output_type": "stream",
     "text": [
      "+----------------+\n",
      "|disposition_code|\n",
      "+----------------+\n",
      "|             ABA|\n",
      "|              22|\n",
      "|             NOM|\n",
      "|             GOA|\n",
      "|             CIT|\n",
      "|             HAN|\n",
      "|             ADM|\n",
      "|              ND|\n",
      "|             SFD|\n",
      "|             PAS|\n",
      "|             UTL|\n",
      "|             NCR|\n",
      "|             CAN|\n",
      "|             ARR|\n",
      "|             VAS|\n",
      "|             ADV|\n",
      "|             REP|\n",
      "|             CRM|\n",
      "|             CSA|\n",
      "+----------------+\n",
      "\n"
     ]
    }
   ],
   "source": [
    "code_log.select(\"disposition_code\").dropDuplicates().show(100)"
   ]
  },
  {
   "cell_type": "code",
   "execution_count": null,
   "metadata": {},
   "outputs": [],
   "source": []
  }
 ],
 "metadata": {
  "kernelspec": {
   "display_name": "Python 3",
   "language": "python",
   "name": "python3"
  },
  "language_info": {
   "codemirror_mode": {
    "name": "ipython",
    "version": 3
   },
   "file_extension": ".py",
   "mimetype": "text/x-python",
   "name": "python",
   "nbconvert_exporter": "python",
   "pygments_lexer": "ipython3",
   "version": "3.7.7"
  }
 },
 "nbformat": 4,
 "nbformat_minor": 4
}
